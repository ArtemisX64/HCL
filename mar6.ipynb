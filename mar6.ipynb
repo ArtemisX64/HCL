{
 "cells": [
  {
   "cell_type": "code",
   "execution_count": 1,
   "id": "cb91f82f-c1c5-4022-883e-28dbd1ead868",
   "metadata": {},
   "outputs": [
    {
     "name": "stdout",
     "output_type": "stream",
     "text": [
      "Requirement already satisfied: Faker in /var/home/kavi/anaconda3/lib/python3.12/site-packages (36.1.1)\n",
      "Requirement already satisfied: tzdata in /var/home/kavi/anaconda3/lib/python3.12/site-packages (from Faker) (2023.3)\n",
      "Note: you may need to restart the kernel to use updated packages.\n"
     ]
    }
   ],
   "source": [
    "pip install Faker"
   ]
  },
  {
   "cell_type": "code",
   "execution_count": 2,
   "id": "95a56676-f891-415f-81fe-7ce192f8c6e4",
   "metadata": {},
   "outputs": [
    {
     "name": "stdout",
     "output_type": "stream",
     "text": [
      "NER dataset saved to 'Articles.csv'\n",
      "                                            Headline  \\\n",
      "0  Norma Fisher speaks at Sheppard-Tucker event i...   \n",
      "1  Kathy Campbell speaks at Montgomery LLC event ...   \n",
      "2  Erin Castro speaks at Hamilton-Carr event in N...   \n",
      "3  Robert Dunn speaks at Davis Group event in New...   \n",
      "4  Seth Lee speaks at Walker, Pratt and Thomas ev...   \n",
      "\n",
      "                                             Content          Person  \\\n",
      "0  On 2002-03-11, Norma Fisher gave a speech at S...    Norma Fisher   \n",
      "1  On 1974-01-26, Kathy Campbell gave a speech at...  Kathy Campbell   \n",
      "2  On 2017-09-30, Erin Castro gave a speech at Ha...     Erin Castro   \n",
      "3  On 1983-06-17, Robert Dunn gave a speech at Da...     Robert Dunn   \n",
      "4  On 2018-04-15, Seth Lee gave a speech at Walke...        Seth Lee   \n",
      "\n",
      "               Organization          Location        Date  \n",
      "0           Sheppard-Tucker         Tammystad  2002-03-11  \n",
      "1            Montgomery LLC        West Corey  1974-01-26  \n",
      "2             Hamilton-Carr        New Thomas  2017-09-30  \n",
      "3               Davis Group  New Tristanmouth  1983-06-17  \n",
      "4  Walker, Pratt and Thomas        Davismouth  2018-04-15  \n"
     ]
    }
   ],
   "source": [
    "from faker import Faker\n",
    "import pandas as pd\n",
    "import random\n",
    "from io import StringIO\n",
    "\n",
    "# Initialize Faker\n",
    "Faker.seed(0)\n",
    "fake = Faker()\n",
    "\n",
    "# Function to create fake news articles\n",
    "def generate_article():\n",
    "    person = fake.name()\n",
    "    organization = fake.company()\n",
    "    location = fake.city()\n",
    "    date = fake.date()\n",
    "    headline = f\"{person} speaks at {organization} event in {location}\"\n",
    "    content = (\n",
    "        f\"On {date}, {person} gave a speech at {organization}'s annual gathering in {location}. \"\n",
    "        f\"The event, which attracted numerous industry leaders, focused on innovative trends.\"\n",
    "    )\n",
    "    return headline, content, person, organization, location, date\n",
    "\n",
    "# Generate dataset with 10,000 rows\n",
    "data = [generate_article() for _ in range(10000)]\n",
    "\n",
    "# Create DataFrame\n",
    "df = pd.DataFrame(data, columns=[\"Headline\", \"Content\", \"Person\", \"Organization\", \"Location\", \"Date\"])\n",
    "\n",
    "# Save DataFrame to CSV\n",
    "df.to_csv('Articles.csv', index=False)\n",
    "\n",
    "print(\"NER dataset saved to 'Articles.csv'\")\n",
    "print(df.head())"
   ]
  },
  {
   "cell_type": "code",
   "execution_count": 4,
   "id": "a2151ba5-a3a0-4a6c-843d-5844eae6a2cd",
   "metadata": {},
   "outputs": [
    {
     "name": "stdout",
     "output_type": "stream",
     "text": [
      "                                            Headline  \\\n",
      "0  Norma Fisher speaks at Sheppard-Tucker event i...   \n",
      "1  Kathy Campbell speaks at Montgomery LLC event ...   \n",
      "2  Erin Castro speaks at Hamilton-Carr event in N...   \n",
      "3  Robert Dunn speaks at Davis Group event in New...   \n",
      "4  Seth Lee speaks at Walker, Pratt and Thomas ev...   \n",
      "5  Mrs. Elizabeth Carter MD speaks at Olsen-Ferna...   \n",
      "6  Clinton Underwood speaks at Salazar Ltd event ...   \n",
      "7  Chase Johnson speaks at Villanueva PLC event i...   \n",
      "8  Sarah Jacobson speaks at Bryan, Barnes and Hil...   \n",
      "9  Katelyn Mccoy speaks at Sanchez Ltd event in D...   \n",
      "\n",
      "                                             Content  \\\n",
      "0  On 2002-03-11, Norma Fisher gave a speech at S...   \n",
      "1  On 1974-01-26, Kathy Campbell gave a speech at...   \n",
      "2  On 2017-09-30, Erin Castro gave a speech at Ha...   \n",
      "3  On 1983-06-17, Robert Dunn gave a speech at Da...   \n",
      "4  On 2018-04-15, Seth Lee gave a speech at Walke...   \n",
      "5  On 1987-06-30, Mrs. Elizabeth Carter MD gave a...   \n",
      "6  On 2007-06-15, Clinton Underwood gave a speech...   \n",
      "7  On 1985-03-18, Chase Johnson gave a speech at ...   \n",
      "8  On 1974-07-19, Sarah Jacobson gave a speech at...   \n",
      "9  On 1990-07-13, Katelyn Mccoy gave a speech at ...   \n",
      "\n",
      "                     Person              Organization          Location  \\\n",
      "0              Norma Fisher           Sheppard-Tucker         Tammystad   \n",
      "1            Kathy Campbell            Montgomery LLC        West Corey   \n",
      "2               Erin Castro             Hamilton-Carr        New Thomas   \n",
      "3               Robert Dunn               Davis Group  New Tristanmouth   \n",
      "4                  Seth Lee  Walker, Pratt and Thomas        Davismouth   \n",
      "5  Mrs. Elizabeth Carter MD           Olsen-Fernandez          Seanfurt   \n",
      "6         Clinton Underwood               Salazar Ltd        Thomasland   \n",
      "7             Chase Johnson            Villanueva PLC       Masseyhaven   \n",
      "8            Sarah Jacobson    Bryan, Barnes and Hill        Kellerstad   \n",
      "9             Katelyn Mccoy               Sanchez Ltd          Davebury   \n",
      "\n",
      "         Date  \n",
      "0  2002-03-11  \n",
      "1  1974-01-26  \n",
      "2  2017-09-30  \n",
      "3  1983-06-17  \n",
      "4  2018-04-15  \n",
      "5  1987-06-30  \n",
      "6  2007-06-15  \n",
      "7  1985-03-18  \n",
      "8  1974-07-19  \n",
      "9  1990-07-13  \n"
     ]
    }
   ],
   "source": [
    "import pandas as pd\n",
    "# Load dataset (replace with actual file path)\n",
    "df = pd.read_csv(\"Articles.csv\") \n",
    "# Display first few rows print(df.head())\n",
    "# Assuming 'article_text' is the column with news content \n",
    "print(df.head(10)) \n",
    "# Print first article"
   ]
  },
  {
   "cell_type": "code",
   "execution_count": 5,
   "id": "221fff56-5961-4a8e-80b8-4f24a99639f2",
   "metadata": {},
   "outputs": [
    {
     "name": "stdout",
     "output_type": "stream",
     "text": [
      "Requirement already satisfied: spacy in /var/home/kavi/anaconda3/lib/python3.12/site-packages (3.8.4)\n",
      "Requirement already satisfied: spacy-legacy<3.1.0,>=3.0.11 in /var/home/kavi/anaconda3/lib/python3.12/site-packages (from spacy) (3.0.12)\n",
      "Requirement already satisfied: spacy-loggers<2.0.0,>=1.0.0 in /var/home/kavi/anaconda3/lib/python3.12/site-packages (from spacy) (1.0.5)\n",
      "Requirement already satisfied: murmurhash<1.1.0,>=0.28.0 in /var/home/kavi/anaconda3/lib/python3.12/site-packages (from spacy) (1.0.12)\n",
      "Requirement already satisfied: cymem<2.1.0,>=2.0.2 in /var/home/kavi/anaconda3/lib/python3.12/site-packages (from spacy) (2.0.11)\n",
      "Requirement already satisfied: preshed<3.1.0,>=3.0.2 in /var/home/kavi/anaconda3/lib/python3.12/site-packages (from spacy) (3.0.9)\n",
      "Requirement already satisfied: thinc<8.4.0,>=8.3.4 in /var/home/kavi/anaconda3/lib/python3.12/site-packages (from spacy) (8.3.4)\n",
      "Requirement already satisfied: wasabi<1.2.0,>=0.9.1 in /var/home/kavi/anaconda3/lib/python3.12/site-packages (from spacy) (1.1.3)\n",
      "Requirement already satisfied: srsly<3.0.0,>=2.4.3 in /var/home/kavi/anaconda3/lib/python3.12/site-packages (from spacy) (2.5.1)\n",
      "Requirement already satisfied: catalogue<2.1.0,>=2.0.6 in /var/home/kavi/anaconda3/lib/python3.12/site-packages (from spacy) (2.0.10)\n",
      "Requirement already satisfied: weasel<0.5.0,>=0.1.0 in /var/home/kavi/anaconda3/lib/python3.12/site-packages (from spacy) (0.4.1)\n",
      "Requirement already satisfied: typer<1.0.0,>=0.3.0 in /var/home/kavi/anaconda3/lib/python3.12/site-packages (from spacy) (0.15.2)\n",
      "Requirement already satisfied: tqdm<5.0.0,>=4.38.0 in /var/home/kavi/anaconda3/lib/python3.12/site-packages (from spacy) (4.66.5)\n",
      "Requirement already satisfied: numpy>=1.19.0 in /var/home/kavi/anaconda3/lib/python3.12/site-packages (from spacy) (1.26.4)\n",
      "Requirement already satisfied: requests<3.0.0,>=2.13.0 in /var/home/kavi/anaconda3/lib/python3.12/site-packages (from spacy) (2.32.3)\n",
      "Requirement already satisfied: pydantic!=1.8,!=1.8.1,<3.0.0,>=1.7.4 in /var/home/kavi/anaconda3/lib/python3.12/site-packages (from spacy) (2.8.2)\n",
      "Requirement already satisfied: jinja2 in /var/home/kavi/anaconda3/lib/python3.12/site-packages (from spacy) (3.1.4)\n",
      "Requirement already satisfied: setuptools in /var/home/kavi/anaconda3/lib/python3.12/site-packages (from spacy) (75.1.0)\n",
      "Requirement already satisfied: packaging>=20.0 in /var/home/kavi/anaconda3/lib/python3.12/site-packages (from spacy) (24.1)\n",
      "Requirement already satisfied: langcodes<4.0.0,>=3.2.0 in /var/home/kavi/anaconda3/lib/python3.12/site-packages (from spacy) (3.5.0)\n",
      "Requirement already satisfied: language-data>=1.2 in /var/home/kavi/anaconda3/lib/python3.12/site-packages (from langcodes<4.0.0,>=3.2.0->spacy) (1.3.0)\n",
      "Requirement already satisfied: annotated-types>=0.4.0 in /var/home/kavi/anaconda3/lib/python3.12/site-packages (from pydantic!=1.8,!=1.8.1,<3.0.0,>=1.7.4->spacy) (0.6.0)\n",
      "Requirement already satisfied: pydantic-core==2.20.1 in /var/home/kavi/anaconda3/lib/python3.12/site-packages (from pydantic!=1.8,!=1.8.1,<3.0.0,>=1.7.4->spacy) (2.20.1)\n",
      "Requirement already satisfied: typing-extensions>=4.6.1 in /var/home/kavi/anaconda3/lib/python3.12/site-packages (from pydantic!=1.8,!=1.8.1,<3.0.0,>=1.7.4->spacy) (4.11.0)\n",
      "Requirement already satisfied: charset-normalizer<4,>=2 in /var/home/kavi/anaconda3/lib/python3.12/site-packages (from requests<3.0.0,>=2.13.0->spacy) (3.3.2)\n",
      "Requirement already satisfied: idna<4,>=2.5 in /var/home/kavi/anaconda3/lib/python3.12/site-packages (from requests<3.0.0,>=2.13.0->spacy) (3.7)\n",
      "Requirement already satisfied: urllib3<3,>=1.21.1 in /var/home/kavi/anaconda3/lib/python3.12/site-packages (from requests<3.0.0,>=2.13.0->spacy) (2.2.3)\n",
      "Requirement already satisfied: certifi>=2017.4.17 in /var/home/kavi/anaconda3/lib/python3.12/site-packages (from requests<3.0.0,>=2.13.0->spacy) (2025.1.31)\n",
      "Requirement already satisfied: blis<1.3.0,>=1.2.0 in /var/home/kavi/anaconda3/lib/python3.12/site-packages (from thinc<8.4.0,>=8.3.4->spacy) (1.2.0)\n",
      "Requirement already satisfied: confection<1.0.0,>=0.0.1 in /var/home/kavi/anaconda3/lib/python3.12/site-packages (from thinc<8.4.0,>=8.3.4->spacy) (0.1.5)\n",
      "Requirement already satisfied: click>=8.0.0 in /var/home/kavi/anaconda3/lib/python3.12/site-packages (from typer<1.0.0,>=0.3.0->spacy) (8.1.7)\n",
      "Requirement already satisfied: shellingham>=1.3.0 in /var/home/kavi/anaconda3/lib/python3.12/site-packages (from typer<1.0.0,>=0.3.0->spacy) (1.5.4)\n",
      "Requirement already satisfied: rich>=10.11.0 in /var/home/kavi/anaconda3/lib/python3.12/site-packages (from typer<1.0.0,>=0.3.0->spacy) (13.7.1)\n",
      "Requirement already satisfied: cloudpathlib<1.0.0,>=0.7.0 in /var/home/kavi/anaconda3/lib/python3.12/site-packages (from weasel<0.5.0,>=0.1.0->spacy) (0.21.0)\n",
      "Requirement already satisfied: smart-open<8.0.0,>=5.2.1 in /var/home/kavi/anaconda3/lib/python3.12/site-packages (from weasel<0.5.0,>=0.1.0->spacy) (5.2.1)\n",
      "Requirement already satisfied: MarkupSafe>=2.0 in /var/home/kavi/anaconda3/lib/python3.12/site-packages (from jinja2->spacy) (2.1.3)\n",
      "Requirement already satisfied: marisa-trie>=1.1.0 in /var/home/kavi/anaconda3/lib/python3.12/site-packages (from language-data>=1.2->langcodes<4.0.0,>=3.2.0->spacy) (1.2.1)\n",
      "Requirement already satisfied: markdown-it-py>=2.2.0 in /var/home/kavi/anaconda3/lib/python3.12/site-packages (from rich>=10.11.0->typer<1.0.0,>=0.3.0->spacy) (2.2.0)\n",
      "Requirement already satisfied: pygments<3.0.0,>=2.13.0 in /var/home/kavi/anaconda3/lib/python3.12/site-packages (from rich>=10.11.0->typer<1.0.0,>=0.3.0->spacy) (2.15.1)\n",
      "Requirement already satisfied: mdurl~=0.1 in /var/home/kavi/anaconda3/lib/python3.12/site-packages (from markdown-it-py>=2.2.0->rich>=10.11.0->typer<1.0.0,>=0.3.0->spacy) (0.1.0)\n",
      "Note: you may need to restart the kernel to use updated packages.\n"
     ]
    }
   ],
   "source": [
    "pip install spacy"
   ]
  },
  {
   "cell_type": "code",
   "execution_count": 7,
   "id": "fc125e87-a5f8-4217-91f8-dca5c5d751cd",
   "metadata": {},
   "outputs": [
    {
     "name": "stdout",
     "output_type": "stream",
     "text": [
      "Index(['Headline', 'Content', 'Person', 'Organization', 'Location', 'Date'], dtype='object')\n"
     ]
    }
   ],
   "source": [
    "print(df.columns)\n"
   ]
  },
  {
   "cell_type": "code",
   "execution_count": 8,
   "id": "e3c3e813-86f1-4015-9a07-745e0b07cad8",
   "metadata": {},
   "outputs": [],
   "source": [
    "df.columns = df.columns.str.strip()\n"
   ]
  },
  {
   "cell_type": "code",
   "execution_count": 9,
   "id": "cf07702f-2ad1-4af3-a926-0ac421623c3c",
   "metadata": {},
   "outputs": [
    {
     "name": "stdout",
     "output_type": "stream",
     "text": [
      "                                            Headline  \\\n",
      "0  Norma Fisher speaks at Sheppard-Tucker event i...   \n",
      "1  Kathy Campbell speaks at Montgomery LLC event ...   \n",
      "2  Erin Castro speaks at Hamilton-Carr event in N...   \n",
      "3  Robert Dunn speaks at Davis Group event in New...   \n",
      "4  Seth Lee speaks at Walker, Pratt and Thomas ev...   \n",
      "\n",
      "                                             Content          Person  \\\n",
      "0  On 2002-03-11, Norma Fisher gave a speech at S...    Norma Fisher   \n",
      "1  On 1974-01-26, Kathy Campbell gave a speech at...  Kathy Campbell   \n",
      "2  On 2017-09-30, Erin Castro gave a speech at Ha...     Erin Castro   \n",
      "3  On 1983-06-17, Robert Dunn gave a speech at Da...     Robert Dunn   \n",
      "4  On 2018-04-15, Seth Lee gave a speech at Walke...        Seth Lee   \n",
      "\n",
      "               Organization          Location        Date  \n",
      "0           Sheppard-Tucker         Tammystad  2002-03-11  \n",
      "1            Montgomery LLC        West Corey  1974-01-26  \n",
      "2             Hamilton-Carr        New Thomas  2017-09-30  \n",
      "3               Davis Group  New Tristanmouth  1983-06-17  \n",
      "4  Walker, Pratt and Thomas        Davismouth  2018-04-15  \n"
     ]
    }
   ],
   "source": [
    "print(df.head())\n"
   ]
  },
  {
   "cell_type": "code",
   "execution_count": 6,
   "id": "d6ea8e82-3c4c-4584-b33a-551dfe347348",
   "metadata": {},
   "outputs": [
    {
     "name": "stdout",
     "output_type": "stream",
     "text": [
      "                  entities persons locations organizations ordinals\n",
      "0  ['apple', 'steve jobs']      []        []            []       []\n",
      "1        ['1947', 'India']      []        []            []       []\n",
      "2   ['44th', 'california']      []        []            []       []\n",
      "Index(['entities', 'persons', 'locations', 'organizations', 'ordinals'], dtype='object')\n"
     ]
    }
   ],
   "source": [
    "import pandas as pd\n",
    "\n",
    "# Load dataset\n",
    "df = pd.read_csv(\"Articles.csv\")\n",
    "\n",
    "# Verify it's loaded\n",
    "print(df.head())  # Should print some rows\n",
    "print(df.columns)  # Should print column names\n",
    "\n",
    "# Rename columns (after verifying df exists)\n",
    "df.rename(columns=lambda x: x.lower(), inplace=True)\n"
   ]
  },
  {
   "cell_type": "code",
   "execution_count": 7,
   "id": "b8f35ebf-e2bb-4a3c-b4de-1ae4ea9f2418",
   "metadata": {},
   "outputs": [
    {
     "name": "stdout",
     "output_type": "stream",
     "text": [
      "Is df defined? True\n"
     ]
    }
   ],
   "source": [
    "print(\"Is df defined?\", 'df' in locals())\n"
   ]
  },
  {
   "cell_type": "code",
   "execution_count": 8,
   "id": "0443a529-c0b5-4617-9d9b-447b32e6b4ed",
   "metadata": {},
   "outputs": [],
   "source": [
    "df.rename(columns=lambda x: x.lower(), inplace=True)\n"
   ]
  },
  {
   "cell_type": "code",
   "execution_count": 9,
   "id": "998901ed-9a60-43d3-8636-e008c39f2c74",
   "metadata": {},
   "outputs": [],
   "source": [
    "df = pd.read_csv(\"Articles.csv\") "
   ]
  },
  {
   "cell_type": "code",
   "execution_count": 11,
   "id": "aadb584d-3ff6-4687-86b0-7e3fce0fad06",
   "metadata": {},
   "outputs": [
    {
     "name": "stdout",
     "output_type": "stream",
     "text": [
      "['entities', 'persons', 'locations', 'organizations', 'ordinals']\n"
     ]
    }
   ],
   "source": [
    "print(df.columns.tolist())\n"
   ]
  },
  {
   "cell_type": "code",
   "execution_count": 12,
   "id": "a43d48c8-b501-440d-96f7-2f6d756006d0",
   "metadata": {},
   "outputs": [
    {
     "name": "stdout",
     "output_type": "stream",
     "text": [
      "['entities', 'persons', 'locations', 'organizations', 'ordinals']\n"
     ]
    }
   ],
   "source": [
    "df.columns = df.columns.str.strip()\n",
    "print(df.columns.tolist())  # Check again\n"
   ]
  },
  {
   "cell_type": "code",
   "execution_count": 13,
   "id": "81d2fbac-69a0-4f37-be8f-25d8aea8274e",
   "metadata": {},
   "outputs": [
    {
     "name": "stdout",
     "output_type": "stream",
     "text": [
      "                  entities persons locations organizations ordinals\n",
      "0  ['apple', 'steve jobs']      []        []            []       []\n",
      "1        ['1947', 'India']      []        []            []       []\n",
      "2   ['44th', 'california']      []        []            []       []\n",
      "(3, 5)\n"
     ]
    }
   ],
   "source": [
    "print(df.head())  # Show first few rows\n",
    "print(df.shape)   # Show number of rows and columns\n"
   ]
  },
  {
   "cell_type": "code",
   "execution_count": 14,
   "id": "59b579e3-005d-4ed7-85c1-d2977217746d",
   "metadata": {},
   "outputs": [
    {
     "name": "stdout",
     "output_type": "stream",
     "text": [
      "['entities', 'persons', 'locations', 'organizations', 'ordinals']\n"
     ]
    }
   ],
   "source": [
    "df.columns = df.columns.str.lower()  # Convert to lowercase\n",
    "print(df.columns.tolist())  # Check again\n"
   ]
  },
  {
   "cell_type": "code",
   "execution_count": 16,
   "id": "bcdc8f28-a029-478f-95cc-3ecc550c8ddd",
   "metadata": {},
   "outputs": [
    {
     "name": "stdout",
     "output_type": "stream",
     "text": [
      "Column 'article_text' not found in DataFrame!\n"
     ]
    }
   ],
   "source": [
    "if 'article_text' in df.columns:\n",
    "    df['entities'] = df['article_text'].apply(extract_entities)\n",
    "else:\n",
    "    print(\"Column 'article_text' not found in DataFrame!\")\n"
   ]
  },
  {
   "cell_type": "code",
   "execution_count": 59,
   "id": "6e3b05cf-a497-40d1-b274-1eeb7ea840cb",
   "metadata": {},
   "outputs": [
    {
     "name": "stdout",
     "output_type": "stream",
     "text": [
      "                                        article_text  \\\n",
      "0  Apple is a technology company founded in Calif...   \n",
      "1  Barack Obama was born in Hawaii and was the 44...   \n",
      "2  India is would be developed by 2027 under Modi...   \n",
      "\n",
      "                                            entities  \n",
      "0                  [(Apple, ORG), (California, GPE)]  \n",
      "1  [(Barack Obama, PERSON), (Hawaii, GPE), (44th,...  \n",
      "2  [(India, GPE), (2027, DATE), (2002-3-11, DATE)...  \n"
     ]
    }
   ],
   "source": [
    "import spacy\n",
    "import pandas as pd\n",
    "\n",
    "# Load spaCy's pre-trained NER model\n",
    "nlp = spacy.load(\"en_core_web_sm\")\n",
    "\n",
    "# Function to extract named entities\n",
    "def extract_entities(text):\n",
    "    doc = nlp(text)\n",
    "    entities = [(ent.text, ent.label_) for ent in doc.ents]\n",
    "    return entities\n",
    "\n",
    "# Sample DataFrame\n",
    "data = {\n",
    "    'article_text': [\n",
    "        \"Apple is a technology company founded in California.\",\n",
    "        \"Barack Obama was born in Hawaii and was the 44th president of the United States.\",\n",
    "        \"India is would be developed by 2027 under Modi ruling.\"\n",
    "       \n",
    "                                            \n",
    "\"On 2002-3-11, Norma Fisher gave a speech at Russia\"   \n",
    "  \"On 1974-1-26, Kathy Campbell gave a speech at Japan\"  \n",
    "  \"on 2017-9-30, Erin Castro gave a speech at Uk\"    \n",
    "  \"On 1983-6-17, Robert Dunn gave a speech at Denmark\"     \n",
    "       \n",
    "    ]\n",
    "}\n",
    "\n",
    "df = pd.DataFrame(data)\n",
    "\n",
    "# Apply NER to each article\n",
    "df['entities'] = df['article_text'].apply(extract_entities)\n",
    "\n",
    "# Display extracted entities\n",
    "print(df[['article_text', 'entities']].head())"
   ]
  },
  {
   "cell_type": "code",
   "execution_count": 60,
   "id": "c9b6b348-18ff-48bc-8ac2-db6062741bd5",
   "metadata": {},
   "outputs": [
    {
     "name": "stdout",
     "output_type": "stream",
     "text": [
      "                       Entity  Count\n",
      "0                (Apple, ORG)      1\n",
      "9      (Norma Fisher, PERSON)      1\n",
      "15      (Robert Dunn, PERSON)      1\n",
      "14          (1983-6-17, DATE)      1\n",
      "13      (Erin Castro, PERSON)      1\n",
      "12   (Japanon 2017-9-30, FAC)      1\n",
      "11   (Kathy Campbell, PERSON)      1\n",
      "10  (RussiaOn 1974-1-26, ORG)      1\n",
      "8           (2002-3-11, DATE)      1\n",
      "1           (California, GPE)      1\n"
     ]
    }
   ],
   "source": [
    "from collections import Counter\n",
    "\n",
    "# Flatten the list of entities\n",
    "all_entities = [ent for sublist in df['entities'] for ent in sublist]\n",
    "\n",
    "# Count occurrences of each entity\n",
    "entity_counts = Counter(all_entities)\n",
    "\n",
    "# Convert to DataFrame\n",
    "entity_df = pd.DataFrame(entity_counts.items(), columns=[\"Entity\", \"Count\"]) \\\n",
    "    .sort_values(by=\"Count\", ascending=False)\n",
    "\n",
    "# Display most common entities\n",
    "print(entity_df.head(10))"
   ]
  },
  {
   "cell_type": "code",
   "execution_count": 21,
   "id": "fb2ac1ad-7f9c-4062-81cf-f2f2722061bb",
   "metadata": {},
   "outputs": [],
   "source": [
    "top_entities = df['entities'].explode().value_counts().reset_index()\n",
    "top_entities.columns = ['Entity', 'Count']\n"
   ]
  },
  {
   "cell_type": "code",
   "execution_count": 35,
   "id": "061b9a47-b609-4c80-901c-eb7e48decac6",
   "metadata": {},
   "outputs": [],
   "source": [
    "top_entities = top_entities.reset_index()\n"
   ]
  },
  {
   "cell_type": "code",
   "execution_count": 56,
   "id": "bf976f07-859c-449f-ab11-b4a3fe045a20",
   "metadata": {},
   "outputs": [],
   "source": [
    "y=top_entities['Entity'],  \n",
    "x=top_entities['Count']\n"
   ]
  },
  {
   "cell_type": "code",
   "execution_count": 57,
   "id": "7c1d05f2-c66a-46cd-bece-28c5d23c69c2",
   "metadata": {},
   "outputs": [
    {
     "name": "stdout",
     "output_type": "stream",
     "text": [
      "Index(['Entity', 'Count'], dtype='object')\n"
     ]
    }
   ],
   "source": [
    "print(top_entities.columns)\n"
   ]
  },
  {
   "cell_type": "code",
   "execution_count": 61,
   "id": "a0326bc6-ff39-489d-941f-48aa3c4e6e08",
   "metadata": {},
   "outputs": [
    {
     "name": "stdout",
     "output_type": "stream",
     "text": [
      "entities\n",
      "(Apple, ORG)                 1\n",
      "(Norma Fisher, PERSON)       1\n",
      "(Robert Dunn, PERSON)        1\n",
      "(1983-6-17, DATE)            1\n",
      "(Erin Castro, PERSON)        1\n",
      "(Japanon 2017-9-30, FAC)     1\n",
      "(Kathy Campbell, PERSON)     1\n",
      "(RussiaOn 1974-1-26, ORG)    1\n",
      "(2002-3-11, DATE)            1\n",
      "(California, GPE)            1\n",
      "(2027, DATE)                 1\n",
      "(India, GPE)                 1\n",
      "(the United States, GPE)     1\n",
      "(44th, ORDINAL)              1\n",
      "(Hawaii, GPE)                1\n",
      "(Barack Obama, PERSON)       1\n",
      "(Denmark, GPE)               1\n",
      "Name: count, dtype: int64\n"
     ]
    }
   ],
   "source": [
    "print(df['entities'].explode().value_counts())\n"
   ]
  },
  {
   "cell_type": "code",
   "execution_count": 64,
   "id": "ce3466bc-06cc-4f0e-bb4b-be8e2df1cda0",
   "metadata": {},
   "outputs": [
    {
     "name": "stdout",
     "output_type": "stream",
     "text": [
      "                       Entity  Count\n",
      "0            ('Apple', 'ORG')      1\n",
      "1       ('California', 'GPE')      1\n",
      "2  ('Barack Obama', 'PERSON')      1\n",
      "3           ('Hawaii', 'GPE')      1\n",
      "4         ('44th', 'ORDINAL')      1\n",
      "RangeIndex(start=0, stop=8, step=1)\n",
      "Index(['Entity', 'Count'], dtype='object')\n"
     ]
    }
   ],
   "source": [
    "print(top_entities.head())  # Check if it has the expected columns\n",
    "print(top_entities.index)   # Check if it has a MultiIndex\n",
    "print(top_entities.columns) # Check column names\n"
   ]
  },
  {
   "cell_type": "code",
   "execution_count": 65,
   "id": "43f98b18-4441-4fef-a689-cc4d9425d281",
   "metadata": {},
   "outputs": [
    {
     "name": "stdout",
     "output_type": "stream",
     "text": [
      "                         Entity  Count\n",
      "0              ('Apple', 'ORG')      1\n",
      "1         ('California', 'GPE')      1\n",
      "2    ('Barack Obama', 'PERSON')      1\n",
      "3             ('Hawaii', 'GPE')      1\n",
      "4           ('44th', 'ORDINAL')      1\n",
      "5  ('the United States', 'GPE')      1\n",
      "6              ('India', 'GPE')      1\n",
      "7              ('2027', 'DATE')      1\n"
     ]
    }
   ],
   "source": [
    "print(top_entities.to_string())  # Forces full output\n"
   ]
  },
  {
   "cell_type": "code",
   "execution_count": 25,
   "id": "797ecaf2-65f4-4d82-ad6b-2013716d4647",
   "metadata": {},
   "outputs": [],
   "source": [
    "top_entities = df['entities'].explode().value_counts().reset_index()\n",
    "top_entities.columns = ['Entity', 'Count']\n"
   ]
  },
  {
   "cell_type": "code",
   "execution_count": 26,
   "id": "d462ad70-2bdf-4c2f-9fb9-98f629c11245",
   "metadata": {},
   "outputs": [
    {
     "name": "stdout",
     "output_type": "stream",
     "text": [
      "Entity    object\n",
      "Count      int64\n",
      "dtype: object\n"
     ]
    }
   ],
   "source": [
    "print(top_entities.dtypes)\n"
   ]
  },
  {
   "cell_type": "code",
   "execution_count": 66,
   "id": "b9248d3f-469b-4b6b-ba7a-3c4297691bf7",
   "metadata": {},
   "outputs": [],
   "source": [
    "top_entities['Entity'] = top_entities['Entity'].astype(str)\n"
   ]
  },
  {
   "cell_type": "code",
   "execution_count": 67,
   "id": "db08f5c2-2e8f-4dcc-b87c-a1c02ac5dfd3",
   "metadata": {},
   "outputs": [
    {
     "name": "stderr",
     "output_type": "stream",
     "text": [
      "/tmp/ipykernel_14010/1127130392.py:1: FutureWarning: \n",
      "\n",
      "Passing `palette` without assigning `hue` is deprecated and will be removed in v0.14.0. Assign the `y` variable to `hue` and set `legend=False` for the same effect.\n",
      "\n",
      "  sns.barplot(\n"
     ]
    },
    {
     "data": {
      "text/plain": [
       "<Axes: xlabel='Count', ylabel='Entity'>"
      ]
     },
     "execution_count": 67,
     "metadata": {},
     "output_type": "execute_result"
    },
    {
     "data": {
      "image/png": "[encoded data removed]",
      "text/plain": [
       "<Figure size 640x480 with 1 Axes>"
      ]
     },
     "metadata": {},
     "output_type": "display_data"
    }
   ],
   "source": [
    "sns.barplot(\n",
    "    y=top_entities['Entity'],\n",
    "    x=top_entities['Count'],\n",
    "    palette=\"coolwarm\"\n",
    ")\n"
   ]
  },
  {
   "cell_type": "code",
   "execution_count": 68,
   "id": "2f379678-fccb-4e92-86ed-690756ecc75f",
   "metadata": {},
   "outputs": [
    {
     "data": {
      "image/png": "[encoded data removed]",
      "text/plain": [
       "<Figure size 900x500 with 1 Axes>"
      ]
     },
     "metadata": {},
     "output_type": "display_data"
    }
   ],
   "source": [
    "from collections import Counter\n",
    "import matplotlib.pyplot as plt\n",
    "from wordcloud import WordCloud\n",
    "\n",
    "# Example DataFrame setup (replace with your actual DataFrame)\n",
    "import pandas as pd\n",
    "\n",
    "data = {'entities': [['apple', 'steve jobs'], ['1947', 'India'], ['44th', 'california']]}\n",
    "df = pd.DataFrame(data)\n",
    "\n",
    "# Flatten the list of entities\n",
    "all_entities = [ent for sublist in df['entities'] for ent in sublist]\n",
    "\n",
    "# Create text of all entities\n",
    "entity_text = \" \".join(all_entities)\n",
    "\n",
    "# Generate word cloud\n",
    "wordcloud = WordCloud(\n",
    "    width=800,\n",
    "    height=400,\n",
    "    background_color=\"white\"\n",
    ").generate(entity_text)\n",
    "\n",
    "# Display word cloud\n",
    "plt.figure(figsize=(9, 5))\n",
    "plt.imshow(wordcloud, interpolation=\"bilinear\")\n",
    "plt.axis(\"off\")\n",
    "plt.title(\"WordCloud of Named Entities in News\")\n",
    "plt.show()\n"
   ]
  },
  {
   "cell_type": "code",
   "execution_count": 69,
   "id": "689b06f1-ce03-4849-8c0b-97c382b752b9",
   "metadata": {},
   "outputs": [
    {
     "name": "stdout",
     "output_type": "stream",
     "text": [
      "0    [apple, steve jobs]\n",
      "1          [1947, India]\n",
      "2     [44th, california]\n",
      "Name: entities, dtype: object\n",
      "<class 'list'>\n"
     ]
    }
   ],
   "source": [
    "print(df['entities'].head(10))\n",
    "print(type(df['entities'].iloc[0]))  # Check the data type of the first row\n"
   ]
  },
  {
   "cell_type": "code",
   "execution_count": 35,
   "id": "ed2644f3-2510-447e-89c5-3bf84fc914c0",
   "metadata": {},
   "outputs": [
    {
     "data": {
      "text/plain": [
       "[('Apple', 'ORG'), ('California', 'GPE')]"
      ]
     },
     "execution_count": 35,
     "metadata": {},
     "output_type": "execute_result"
    }
   ],
   "source": [
    "[('Apple', 'ORG'), ('California', 'GPE')]\n"
   ]
  },
  {
   "cell_type": "code",
   "execution_count": 50,
   "id": "b72bf894-10ec-472e-8fca-47a60e1a84c8",
   "metadata": {},
   "outputs": [],
   "source": [
    "df['entities'] = df['entities'].apply(lambda x: x if isinstance(x, list) else [])\n"
   ]
  },
  {
   "cell_type": "code",
   "execution_count": 70,
   "id": "deeeac9c-c6af-4f71-9f6a-6b0b0494dd17",
   "metadata": {},
   "outputs": [
    {
     "name": "stdout",
     "output_type": "stream",
     "text": [
      "Unique entity labels found: {'9', 'p', 'n', 'a', '4', 't'}\n"
     ]
    }
   ],
   "source": [
    "all_labels = set([ent[1] for ents in df['entities'] if isinstance(ents, list) for ent in ents])\n",
    "print(\"Unique entity labels found:\", all_labels)\n"
   ]
  },
  {
   "cell_type": "code",
   "execution_count": 71,
   "id": "a40493a6-7cbc-4777-b757-89c8627dce59",
   "metadata": {},
   "outputs": [
    {
     "name": "stdout",
     "output_type": "stream",
     "text": [
      "Processing: ['apple', 'steve jobs']\n",
      "Processing: ['1947', 'India']\n",
      "Processing: ['44th', 'california']\n",
      "Processing: ['apple', 'steve jobs']\n",
      "Processing: ['1947', 'India']\n",
      "Processing: ['44th', 'california']\n",
      "Processing: ['apple', 'steve jobs']\n",
      "Processing: ['1947', 'India']\n",
      "Processing: ['44th', 'california']\n",
      "Processing: ['apple', 'steve jobs']\n",
      "Processing: ['1947', 'India']\n",
      "Processing: ['44th', 'california']\n",
      "  persons locations organizations ordinals\n",
      "0      []        []            []       []\n",
      "1      []        []            []       []\n",
      "2      []        []            []       []\n"
     ]
    }
   ],
   "source": [
    "def filter_entities(entity_list, entity_type):\n",
    "    print(f\"Processing: {entity_list}\")  # Debugging step\n",
    "    return [ent[0] for ent in entity_list if ent[1] == entity_type]\n",
    "\n",
    "df['persons'] = df['entities'].apply(lambda x: filter_entities(x, \"PERSON\"))\n",
    "df['locations'] = df['entities'].apply(lambda x: filter_entities(x, \"GPE\"))\n",
    "df['organizations'] = df['entities'].apply(lambda x: filter_entities(x, \"ORG\"))\n",
    "df['ordinals'] = df['entities'].apply(lambda x: filter_entities(x, \"ORDINAL\"))\n",
    "\n",
    "print(df[['persons', 'locations', 'organizations', 'ordinals']].head(10))\n"
   ]
  },
  {
   "cell_type": "code",
   "execution_count": 72,
   "id": "d3e34530-16ea-4f2e-866f-c2b0ec49837a",
   "metadata": {},
   "outputs": [
    {
     "name": "stdout",
     "output_type": "stream",
     "text": [
      "Updated dataset saved successfully!\n",
      "NER results saved!\n"
     ]
    }
   ],
   "source": [
    "df.to_csv(\"Articles.csv\", index=False)\n",
    "print(\"Updated dataset saved successfully!\")\n",
    "\n",
    "# Print confirmation message\n",
    "print(\"NER results saved!\")\n"
   ]
  },
  {
   "cell_type": "code",
   "execution_count": null,
   "id": "58febbc3-c92a-4711-9133-bd51b2564ccd",
   "metadata": {},
   "outputs": [],
   "source": []
  }
 ],
 "metadata": {
  "kernelspec": {
   "display_name": "Python 3 (ipykernel)",
   "language": "python",
   "name": "python3"
  },
  "language_info": {
   "codemirror_mode": {
    "name": "ipython",
    "version": 3
   },
   "file_extension": ".py",
   "mimetype": "text/x-python",
   "name": "python",
   "nbconvert_exporter": "python",
   "pygments_lexer": "ipython3",
   "version": "3.12.2"
  }
 },
 "nbformat": 4,
 "nbformat_minor": 5
}
