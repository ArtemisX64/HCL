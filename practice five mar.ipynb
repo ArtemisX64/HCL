{
 "cells": [
  {
   "cell_type": "code",
   "execution_count": null,
   "id": "30ae0f5c-9ac0-421b-951d-3a8bd8865cf5",
   "metadata": {},
   "outputs": [
    {
     "name": "stdout",
     "output_type": "stream",
     "text": [
      "\n",
      " ATM menu\n",
      "1.Press 1 to check balance\n",
      "2.Press 2 to deposit\n",
      "3.Press 3 to Withdraw\n",
      "4.Press 4 to Exit\n"
     ]
    }
   ],
   "source": [
    "balance=1000\n",
    "while True:\n",
    "    print(\"\\n ATM menu\")\n",
    "    print(\"1.Press 1 to check balance\")\n",
    "    print(\"2.Press 2 to deposit\")\n",
    "    print(\"3.Press 3 to Withdraw\")\n",
    "    print(\"4.Press 4 to Exit\")\n",
    "    choice=input(\"please select a option 1-4\")\n",
    "    if choice==\"1\":\n",
    "        print(f\"current balance  :: {balance}\")\n",
    "    elif choice==\"2\":\n",
    "        amount=float(input(\"enter the amount want to deposit\"))\n",
    "        balance+=amount\n",
    "    elif choice==\"3\":\n",
    "        withdraw_amount=float(input(\"enter the amount want to withdraw\"))\n",
    "        if 0<withdraw_amount<=balance :\n",
    "            balance-=withdraw_amount\n",
    "            print(f\"{withdraw_amount} withdrawn successfully\")\n",
    "        elif withdraw_amount>balance:\n",
    "            print(\"check balance\")\n",
    "        else:\n",
    "            print(\"invalid input\")\n",
    "    elif choice==\"4\":\n",
    "        print(\"thank you visit again\")\n",
    "        break\n",
    "    else:\n",
    "        print(\"invalid selection\")"
   ]
  },
  {
   "cell_type": "code",
   "execution_count": null,
   "id": "94f48d6e-4456-4121-ae1e-cd666c7daed6",
   "metadata": {},
   "outputs": [],
   "source": []
  }
 ],
 "metadata": {
  "kernelspec": {
   "display_name": "Python 3 (ipykernel)",
   "language": "python",
   "name": "python3"
  },
  "language_info": {
   "codemirror_mode": {
    "name": "ipython",
    "version": 3
   },
   "file_extension": ".py",
   "mimetype": "text/x-python",
   "name": "python",
   "nbconvert_exporter": "python",
   "pygments_lexer": "ipython3",
   "version": "3.12.2"
  }
 },
 "nbformat": 4,
 "nbformat_minor": 5
}
